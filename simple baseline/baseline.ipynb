{
  "nbformat": 4,
  "nbformat_minor": 0,
  "metadata": {
    "colab": {
      "name": "Simple Baseline.ipynb（副本）",
      "provenance": [],
      "collapsed_sections": [],
      "machine_shape": "hm"
    },
    "kernelspec": {
      "name": "python3",
      "display_name": "Python 3"
    }
  },
  "cells": [
    {
      "cell_type": "code",
      "metadata": {
        "id": "DyUFqA-WmdJ9",
        "outputId": "4b6449a2-3a4b-4dc9-ebef-9a764267fe0a",
        "colab": {
          "base_uri": "https://localhost:8080/",
          "height": 34
        }
      },
      "source": [
        "from google.colab import drive\n",
        "drive.mount('/content/drive')"
      ],
      "execution_count": 1,
      "outputs": [
        {
          "output_type": "stream",
          "text": [
            "Drive already mounted at /content/drive; to attempt to forcibly remount, call drive.mount(\"/content/drive\", force_remount=True).\n"
          ],
          "name": "stdout"
        }
      ]
    },
    {
      "cell_type": "code",
      "metadata": {
        "id": "4j_LyebPXmCE",
        "outputId": "cf2bc4d8-c78d-4b5f-b325-a4c08e8f54a6",
        "colab": {
          "base_uri": "https://localhost:8080/",
          "height": 119
        }
      },
      "source": [
        "import os\n",
        "os.chdir(\"/content/drive/My Drive/Colab Notebooks/MSc Proj/data/nyc_trip\")\n",
        "!ls"
      ],
      "execution_count": 1,
      "outputs": [
        {
          "output_type": "stream",
          "text": [
            "trip_data_10.csv\t   trip_data_1_fixed.pkl  trip_data_7.csv\n",
            "trip_data_11.csv\t   trip_data_2.csv\t  trip_data_8.csv\n",
            "trip_data_12.csv\t   trip_data_3.csv\t  trip_data_9.csv\n",
            "trip_data_1and2_fixed.pkl  trip_data_4.csv\t  trip_data_all_fixed.pkl\n",
            "trip_data_1and2.pkl\t   trip_data_5.csv\t  trip_data_all.pkl\n",
            "trip_data_1.csv\t\t   trip_data_6.csv\n"
          ],
          "name": "stdout"
        }
      ]
    },
    {
      "cell_type": "code",
      "metadata": {
        "id": "G8_C0iPmWWSk"
      },
      "source": [
        "import numpy as np\n",
        "def reduce_mem_usage(df, time_cols):\n",
        "   \n",
        "    start_mem = df.memory_usage().sum() / 1024**2\n",
        "    start_mem_gb = df.memory_usage().sum() / 1024**3\n",
        "    print('Memory usage of dataframe is {:.2f} MB/ {:.2f}GB'.format(start_mem,start_mem_gb))\n",
        "    \n",
        "    for col in df.columns:\n",
        "        col_type = df[col].dtype\n",
        "        \n",
        "        if col_type != object:\n",
        "            c_min = df[col].min()\n",
        "            c_max = df[col].max()\n",
        "            if str(col_type)[:3] == 'int':\n",
        "                if c_min > np.iinfo(np.int8).min and c_max < np.iinfo(np.int8).max:\n",
        "                    df[col] = df[col].astype(np.int8)\n",
        "                elif c_min > np.iinfo(np.int16).min and c_max < np.iinfo(np.int16).max:\n",
        "                    df[col] = df[col].astype(np.int16)\n",
        "                elif c_min > np.iinfo(np.int32).min and c_max < np.iinfo(np.int32).max:\n",
        "                    df[col] = df[col].astype(np.int32)\n",
        "                elif c_min > np.iinfo(np.int64).min and c_max < np.iinfo(np.int64).max:\n",
        "                    df[col] = df[col].astype(np.int64)  \n",
        "            else:\n",
        "                if c_min > np.finfo(np.float16).min and c_max < np.finfo(np.float16).max:\n",
        "                    df[col] = df[col].astype(np.float16)\n",
        "                elif c_min > np.finfo(np.float32).min and c_max < np.finfo(np.float32).max:\n",
        "                    df[col] = df[col].astype(np.float32)\n",
        "                else:\n",
        "                    df[col] = df[col].astype(np.float64)\n",
        "        else:\n",
        "            if col not in time_cols:\n",
        "                df[col] = df[col].astype('category')\n",
        "\n",
        "    end_mem = df.memory_usage().sum() / 1024**2\n",
        "    print('Memory usage after optimization is: {:.2f} MB'.format(end_mem))\n",
        "    print('Decreased by {:.1f}%'.format(100 * (start_mem - end_mem) / start_mem))\n",
        "    \n",
        "    # return df\n",
        "\n",
        "def deal_space_in_col(df):\n",
        "    tmp = []\n",
        "    for col in df.columns:\n",
        "        tmp.append(col.strip())\n",
        "    df.columns = tmp\n",
        "    df.columns"
      ],
      "execution_count": 3,
      "outputs": []
    },
    {
      "cell_type": "code",
      "metadata": {
        "id": "i6SBM0IRytKB",
        "outputId": "f041ef3c-f9d0-48db-840b-377c8680d07a",
        "colab": {
          "base_uri": "https://localhost:8080/",
          "height": 442
        }
      },
      "source": [
        "#合并1 2 csv文件\n",
        "df_1 = pd.read_csv(f\"trip_data_1.csv\")\n",
        "df_2 = pd.read_csv(f\"trip_data_2.csv\")\n",
        "df = pd.concat([df_1,df_2],axis=0, sort=False)\n",
        "\n",
        "#删除空值行和0时长\n",
        "df = df[~df.dropoff_longitude.isna()]\n",
        "df = df[df.trip_time_in_secs!=0]\n",
        "\n",
        "#计算v(Si)\n",
        "df['speed'] = df['trip_distance']/df['trip_time_in_secs']\n",
        "reduce_mem_usage(df,['pickup_datetime', 'dropoff_datetime'])\n",
        "df['pickup_datetime'] = pd.to_datetime(df[\"pickup_datetime\"])\n",
        "df['dropoff_datetime'] = pd.to_datetime(df[\"dropoff_datetime\"])\n",
        "df.info()"
      ],
      "execution_count": 6,
      "outputs": [
        {
          "output_type": "stream",
          "text": [
            "Memory usage of dataframe is 3503.57 MB/ 3.42GB\n",
            "Memory usage after optimization is: 1370.82 MB\n",
            "Decreased by 60.9%\n",
            "<class 'pandas.core.frame.DataFrame'>\n",
            "Int64Index: 28701248 entries, 0 to 13990175\n",
            "Data columns (total 15 columns):\n",
            " #   Column              Dtype         \n",
            "---  ------              -----         \n",
            " 0   medallion           category      \n",
            " 1   hack_license        category      \n",
            " 2   vendor_id           category      \n",
            " 3   rate_code           int16         \n",
            " 4   store_and_fwd_flag  category      \n",
            " 5   pickup_datetime     datetime64[ns]\n",
            " 6   dropoff_datetime    datetime64[ns]\n",
            " 7   passenger_count     int16         \n",
            " 8   trip_time_in_secs   int16         \n",
            " 9   trip_distance       float16       \n",
            " 10  pickup_longitude    float16       \n",
            " 11  pickup_latitude     float16       \n",
            " 12  dropoff_longitude   float16       \n",
            " 13  dropoff_latitude    float16       \n",
            " 14  speed               float16       \n",
            "dtypes: category(4), datetime64[ns](2), float16(6), int16(3)\n",
            "memory usage: 1.3 GB\n"
          ],
          "name": "stdout"
        }
      ]
    },
    {
      "cell_type": "code",
      "metadata": {
        "id": "js-VKTY01h_V",
        "outputId": "fb2045d8-7114-4a3c-eccd-a30460435541",
        "colab": {
          "base_uri": "https://localhost:8080/",
          "height": 49
        }
      },
      "source": [
        "#删除一些异常点\n",
        "df = df[['pickup_datetime', 'dropoff_datetime','trip_time_in_secs', 'trip_distance',\n",
        "       'pickup_longitude', 'pickup_latitude', 'dropoff_longitude',\n",
        "       'dropoff_latitude', 'speed']]\n",
        "df = df[~df.speed.isna()]\n",
        "df[df.isnull().T.any()]"
      ],
      "execution_count": 7,
      "outputs": [
        {
          "output_type": "execute_result",
          "data": {
            "text/html": [
              "<div>\n",
              "<style scoped>\n",
              "    .dataframe tbody tr th:only-of-type {\n",
              "        vertical-align: middle;\n",
              "    }\n",
              "\n",
              "    .dataframe tbody tr th {\n",
              "        vertical-align: top;\n",
              "    }\n",
              "\n",
              "    .dataframe thead th {\n",
              "        text-align: right;\n",
              "    }\n",
              "</style>\n",
              "<table border=\"1\" class=\"dataframe\">\n",
              "  <thead>\n",
              "    <tr style=\"text-align: right;\">\n",
              "      <th></th>\n",
              "      <th>pickup_datetime</th>\n",
              "      <th>dropoff_datetime</th>\n",
              "      <th>trip_time_in_secs</th>\n",
              "      <th>trip_distance</th>\n",
              "      <th>pickup_longitude</th>\n",
              "      <th>pickup_latitude</th>\n",
              "      <th>dropoff_longitude</th>\n",
              "      <th>dropoff_latitude</th>\n",
              "      <th>speed</th>\n",
              "    </tr>\n",
              "  </thead>\n",
              "  <tbody>\n",
              "  </tbody>\n",
              "</table>\n",
              "</div>"
            ],
            "text/plain": [
              "Empty DataFrame\n",
              "Columns: [pickup_datetime, dropoff_datetime, trip_time_in_secs, trip_distance, pickup_longitude, pickup_latitude, dropoff_longitude, dropoff_latitude, speed]\n",
              "Index: []"
            ]
          },
          "metadata": {
            "tags": []
          },
          "execution_count": 7
        }
      ]
    },
    {
      "cell_type": "code",
      "metadata": {
        "id": "EqX_uS4XyvBo",
        "outputId": "bbdb949c-e64d-44cc-c2d1-81eda7c9709f",
        "colab": {
          "base_uri": "https://localhost:8080/",
          "height": 51
        }
      },
      "source": [
        "#进行分类相同的上车点和下车点\n",
        "%%time\n",
        "import collections\n",
        "p_d_cluster = collections.defaultdict(int)\n",
        "curr_cluster = 0\n",
        "# str(pickup_longitude)+'-'+str(pickup_latitude)+'-'+str(dropoff_longitude)+'-'+str(dropoff_latitude)\n",
        "def cut_lng_lat(pickup_longitude,pickup_latitude,dropoff_longitude,dropoff_latitude):\n",
        "    global curr_cluster\n",
        "    if p_d_cluster[str(pickup_longitude)+'-'+str(pickup_latitude)+'-'+str(dropoff_longitude)+'-'+str(dropoff_latitude)]==0:\n",
        "        curr_cluster += 1\n",
        "        p_d_cluster[str(pickup_longitude)+'-'+str(pickup_latitude)+'-'+str(dropoff_longitude)+'-'+str(dropoff_latitude)] = curr_cluster\n",
        "    return p_d_cluster[str(pickup_longitude)+'-'+str(pickup_latitude)+'-'+str(dropoff_longitude)+'-'+str(dropoff_latitude)]\n",
        "\n",
        "df['cluster'] = df.apply(lambda row: cut_lng_lat(row['pickup_longitude'],row['pickup_latitude'],row['dropoff_longitude'],row['dropoff_latitude']),axis=1)\n",
        "df.to_pickle(f\"trip_data_1and2_fixed.pkl\")"
      ],
      "execution_count": 5,
      "outputs": [
        {
          "output_type": "stream",
          "text": [
            "CPU times: user 14min 18s, sys: 24.6 s, total: 14min 42s\n",
            "Wall time: 14min 46s\n"
          ],
          "name": "stdout"
        }
      ]
    },
    {
      "cell_type": "code",
      "metadata": {
        "id": "qrHLHDgubEzS"
      },
      "source": [
        "# df = pd.read_pickle(f\"trip_data_1and2_fixed.pkl\")\n",
        "df.reset_index(inplace=True)"
      ],
      "execution_count": 4,
      "outputs": []
    },
    {
      "cell_type": "code",
      "metadata": {
        "id": "gs2NGFOy3uAi",
        "outputId": "00ab0369-e10c-451b-9fd7-f2f12a554c6e",
        "colab": {
          "base_uri": "https://localhost:8080/",
          "height": 34
        }
      },
      "source": [
        "print(u'当前进程的内存使用：%.4f GB' % (psutil.Process(os.getpid()).memory_info().rss / 1024 / 1024 / 1024) )"
      ],
      "execution_count": 5,
      "outputs": [
        {
          "output_type": "stream",
          "text": [
            "当前进程的内存使用：1.7091 GB\n"
          ],
          "name": "stdout"
        }
      ]
    },
    {
      "cell_type": "code",
      "metadata": {
        "id": "qaJfCziczHGL"
      },
      "source": [
        "from sklearn.model_selection import train_test_split\n",
        "set_random_seed(2020)\n",
        "X_train, X_test, y_train, y_test = train_test_split(df[['trip_distance',\n",
        "                                                    'pickup_longitude', 'pickup_latitude', 'dropoff_longitude',\n",
        "                                                    'dropoff_latitude',]],\n",
        "                                                    df['trip_time_in_secs'], \n",
        "                                                    test_size =0.01, random_state=2020)"
      ],
      "execution_count": 15,
      "outputs": []
    },
    {
      "cell_type": "code",
      "metadata": {
        "id": "xxSa61N3DA3s"
      },
      "source": [
        "df['month'] = df.pickup_datetime.dt.month"
      ],
      "execution_count": 16,
      "outputs": []
    },
    {
      "cell_type": "code",
      "metadata": {
        "id": "H6t2rPdwFeQo",
        "outputId": "e5330d32-89eb-4236-b47a-3c13c027b4f1",
        "colab": {
          "base_uri": "https://localhost:8080/",
          "height": 34
        }
      },
      "source": [
        "set(df.month)"
      ],
      "execution_count": 17,
      "outputs": [
        {
          "output_type": "execute_result",
          "data": {
            "text/plain": [
              "{1, 2}"
            ]
          },
          "metadata": {
            "tags": []
          },
          "execution_count": 17
        }
      ]
    },
    {
      "cell_type": "markdown",
      "metadata": {
        "id": "4E_SD3HszMYO"
      },
      "source": [
        "### LR"
      ]
    },
    {
      "cell_type": "code",
      "metadata": {
        "id": "nqjYhqW4zNYn"
      },
      "source": [
        "from sklearn.metrics import mean_squared_error, mean_absolute_error\n",
        "from sklearn.linear_model import LinearRegression\n",
        "from sklearn.preprocessing import StandardScaler\n",
        "\n",
        "s_scaler = StandardScaler()\n",
        "# X_train_lr = s_scaler.fit_transform(X_train)\n",
        "# X_test_lr = s_scaler.transform(X_test)\n",
        "\n",
        "lr = LinearRegression()\n",
        "lr.fit(X_train, y_train)\n",
        "\n",
        "y_pred = lr.predict(X_test)"
      ],
      "execution_count": 30,
      "outputs": []
    },
    {
      "cell_type": "code",
      "metadata": {
        "id": "4pi4NafycRb_",
        "outputId": "a64ea10e-d161-45f0-a330-b71704a17950",
        "colab": {
          "base_uri": "https://localhost:8080/",
          "height": 34
        }
      },
      "source": [
        "mean_absolute_error(y_test,y_pred)"
      ],
      "execution_count": 31,
      "outputs": [
        {
          "output_type": "execute_result",
          "data": {
            "text/plain": [
              "216.07986"
            ]
          },
          "metadata": {
            "tags": []
          },
          "execution_count": 31
        }
      ]
    },
    {
      "cell_type": "markdown",
      "metadata": {
        "id": "_e5yU5fldhun"
      },
      "source": [
        "### AVG"
      ]
    },
    {
      "cell_type": "code",
      "metadata": {
        "id": "HifuRtgb0ZmF",
        "outputId": "97cb9f88-2011-4a7f-d9dd-0030c5614057",
        "colab": {
          "base_uri": "https://localhost:8080/",
          "height": 34
        }
      },
      "source": [
        "X_test.shape"
      ],
      "execution_count": 21,
      "outputs": [
        {
          "output_type": "execute_result",
          "data": {
            "text/plain": [
              "(287013, 5)"
            ]
          },
          "metadata": {
            "tags": []
          },
          "execution_count": 21
        }
      ]
    },
    {
      "cell_type": "code",
      "metadata": {
        "id": "vCuHfpAFdjQU"
      },
      "source": [
        "df_train = df.loc[X_train.index,['trip_time_in_secs',\"cluster\"]]\n",
        "df_test = df.loc[X_test.index,['trip_time_in_secs','cluster']]\n",
        "clusters = set(df_test.cluster)"
      ],
      "execution_count": 22,
      "outputs": []
    },
    {
      "cell_type": "code",
      "metadata": {
        "id": "WPPLNBzlj24G"
      },
      "source": [
        "from tqdm import tqdm\n",
        "for c in tqdm(clusters):\n",
        "    df_test.loc[df_test.cluster==c,'pred'] = np.mean(df_train.loc[df_train.cluster==c].trip_time_in_secs.values)"
      ],
      "execution_count": null,
      "outputs": []
    },
    {
      "cell_type": "code",
      "metadata": {
        "id": "0yHdHS_TmBmC",
        "outputId": "34aec2af-e4a2-4872-cb9d-9103f74a6fff",
        "colab": {
          "base_uri": "https://localhost:8080/",
          "height": 34
        }
      },
      "source": [
        "from sklearn.metrics import mean_squared_error, mean_absolute_error\n",
        "df_test = df_test[~df_test.pred.isna()]\n",
        "mean_absolute_error(df_test.trip_time_in_secs.values,df_test.pred.values)"
      ],
      "execution_count": 24,
      "outputs": [
        {
          "output_type": "execute_result",
          "data": {
            "text/plain": [
              "248.27167800399437"
            ]
          },
          "metadata": {
            "tags": []
          },
          "execution_count": 24
        }
      ]
    },
    {
      "cell_type": "markdown",
      "metadata": {
        "id": "mmhrJpX87TnW"
      },
      "source": [
        "### TEMP rel"
      ]
    },
    {
      "cell_type": "code",
      "metadata": {
        "id": "0JnbIZSfRz1_"
      },
      "source": [
        "def get_week_hour(df):\n",
        "    df['weekday'] = df.pickup_datetime.dt.weekday\n",
        "    df['hour'] = df.pickup_datetime.dt.hour\n",
        "get_week_hour(df)"
      ],
      "execution_count": 25,
      "outputs": []
    },
    {
      "cell_type": "code",
      "metadata": {
        "id": "B_FhgyofZBlV",
        "outputId": "a7081d6e-9857-4f84-f25b-77a2bc4825a0",
        "colab": {
          "base_uri": "https://localhost:8080/",
          "height": 170
        }
      },
      "source": [
        "from tqdm import tqdm\n",
        "for week in tqdm(range(7)):\n",
        "    for hour in range(24):\n",
        "        df.loc[(df.weekday==week)&(df.hour==hour), \"speed_timeslot\"] = np.mean(df.loc[(df.weekday==week)&(df.hour==hour), \"speed\"].values)"
      ],
      "execution_count": 26,
      "outputs": [
        {
          "output_type": "stream",
          "text": [
            "\n",
            "  0%|          | 0/7 [00:00<?, ?it/s]\u001b[A\n",
            " 14%|█▍        | 1/7 [00:07<00:46,  7.67s/it]\u001b[A\n",
            " 29%|██▊       | 2/7 [00:14<00:37,  7.40s/it]\u001b[A\n",
            " 43%|████▎     | 3/7 [00:21<00:28,  7.21s/it]\u001b[A\n",
            " 57%|█████▋    | 4/7 [00:28<00:21,  7.09s/it]\u001b[A\n",
            " 71%|███████▏  | 5/7 [00:34<00:13,  7.00s/it]\u001b[A\n",
            " 86%|████████▌ | 6/7 [00:41<00:06,  6.93s/it]\u001b[A\n",
            "100%|██████████| 7/7 [00:48<00:00,  6.90s/it]\n"
          ],
          "name": "stderr"
        }
      ]
    },
    {
      "cell_type": "code",
      "metadata": {
        "id": "A0IY89RT7U-5",
        "outputId": "b562e76b-7ecb-43e5-ff49-272fbb54cb07",
        "colab": {
          "base_uri": "https://localhost:8080/",
          "height": 204
        }
      },
      "source": [
        "df_train = df.loc[X_train.index,[\"weekday\",\"hour\",'trip_time_in_secs',\"cluster\",'speed_timeslot']]\n",
        "df_test = df.loc[X_test.index,[\"weekday\",\"hour\",'trip_time_in_secs','cluster','speed_timeslot']]\n",
        "# df_train = X_train\n",
        "# df_test =  X_test.reset_index(drop=True)\n",
        "clusters = set(df_test.cluster)\n",
        "df_train.head()"
      ],
      "execution_count": 27,
      "outputs": [
        {
          "output_type": "execute_result",
          "data": {
            "text/html": [
              "<div>\n",
              "<style scoped>\n",
              "    .dataframe tbody tr th:only-of-type {\n",
              "        vertical-align: middle;\n",
              "    }\n",
              "\n",
              "    .dataframe tbody tr th {\n",
              "        vertical-align: top;\n",
              "    }\n",
              "\n",
              "    .dataframe thead th {\n",
              "        text-align: right;\n",
              "    }\n",
              "</style>\n",
              "<table border=\"1\" class=\"dataframe\">\n",
              "  <thead>\n",
              "    <tr style=\"text-align: right;\">\n",
              "      <th></th>\n",
              "      <th>weekday</th>\n",
              "      <th>hour</th>\n",
              "      <th>trip_time_in_secs</th>\n",
              "      <th>cluster</th>\n",
              "      <th>speed_timeslot</th>\n",
              "    </tr>\n",
              "  </thead>\n",
              "  <tbody>\n",
              "    <tr>\n",
              "      <th>6724766</th>\n",
              "      <td>2</td>\n",
              "      <td>19</td>\n",
              "      <td>362</td>\n",
              "      <td>35</td>\n",
              "      <td>0.003609</td>\n",
              "    </tr>\n",
              "    <tr>\n",
              "      <th>11300807</th>\n",
              "      <td>1</td>\n",
              "      <td>6</td>\n",
              "      <td>355</td>\n",
              "      <td>1</td>\n",
              "      <td>0.005249</td>\n",
              "    </tr>\n",
              "    <tr>\n",
              "      <th>15700064</th>\n",
              "      <td>5</td>\n",
              "      <td>13</td>\n",
              "      <td>900</td>\n",
              "      <td>9</td>\n",
              "      <td>0.003929</td>\n",
              "    </tr>\n",
              "    <tr>\n",
              "      <th>13777549</th>\n",
              "      <td>4</td>\n",
              "      <td>9</td>\n",
              "      <td>334</td>\n",
              "      <td>62</td>\n",
              "      <td>0.003099</td>\n",
              "    </tr>\n",
              "    <tr>\n",
              "      <th>22207776</th>\n",
              "      <td>6</td>\n",
              "      <td>0</td>\n",
              "      <td>351</td>\n",
              "      <td>1</td>\n",
              "      <td>0.004059</td>\n",
              "    </tr>\n",
              "  </tbody>\n",
              "</table>\n",
              "</div>"
            ],
            "text/plain": [
              "          weekday  hour  trip_time_in_secs  cluster  speed_timeslot\n",
              "6724766         2    19                362       35        0.003609\n",
              "11300807        1     6                355        1        0.005249\n",
              "15700064        5    13                900        9        0.003929\n",
              "13777549        4     9                334       62        0.003099\n",
              "22207776        6     0                351        1        0.004059"
            ]
          },
          "metadata": {
            "tags": []
          },
          "execution_count": 27
        }
      ]
    },
    {
      "cell_type": "code",
      "metadata": {
        "id": "q1_o5yCGXojH"
      },
      "source": [
        "for c in tqdm(clusters):\n",
        "    Nq_index = df_test.loc[df_test.cluster==c,'speed_timeslot'].index\n",
        "    tmp = df_train.loc[df_train.cluster==c].trip_time_in_secs.values * df_train.loc[df_train.cluster==c].speed_timeslot.values\n",
        "    for i in Nq_index:\n",
        "        # print(c,i)\n",
        "        df_test.loc[i,'pred'] = np.mean(tmp/(df_test.loc[i,'speed_timeslot']))"
      ],
      "execution_count": null,
      "outputs": []
    },
    {
      "cell_type": "code",
      "metadata": {
        "id": "OmZ7hdbXcT4t",
        "outputId": "40aedf34-16a7-4867-d254-b4f3b900fccc",
        "colab": {
          "base_uri": "https://localhost:8080/",
          "height": 34
        }
      },
      "source": [
        "from sklearn.metrics import mean_squared_error, mean_absolute_error\n",
        "df_test = df_test[~df_test.pred.isna()]\n",
        "mean_absolute_error(df_test.trip_time_in_secs.values,df_test.pred.values)"
      ],
      "execution_count": 29,
      "outputs": [
        {
          "output_type": "execute_result",
          "data": {
            "text/plain": [
              "240.89273213367403"
            ]
          },
          "metadata": {
            "tags": []
          },
          "execution_count": 29
        }
      ]
    },
    {
      "cell_type": "markdown",
      "metadata": {
        "id": "Cc6JBqC17XEm"
      },
      "source": [
        "### TEMP abs"
      ]
    }
  ]
}